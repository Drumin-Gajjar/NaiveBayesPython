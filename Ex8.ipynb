{
 "metadata": {
  "language_info": {
   "codemirror_mode": {
    "name": "ipython",
    "version": 3
   },
   "file_extension": ".py",
   "mimetype": "text/x-python",
   "name": "python",
   "nbconvert_exporter": "python",
   "pygments_lexer": "ipython3",
   "version": "3.8.6-candidate"
  },
  "orig_nbformat": 2,
  "kernelspec": {
   "name": "Python 3.8.6 64-bit",
   "display_name": "Python 3.8.6 64-bit",
   "metadata": {
    "interpreter": {
     "hash": "2db524e06e9f5f4ffedc911c917cb75e12dbc923643829bf417064a77eb14d37"
    }
   }
  }
 },
 "nbformat": 4,
 "nbformat_minor": 2,
 "cells": [
  {
   "cell_type": "code",
   "execution_count": 1,
   "metadata": {},
   "outputs": [],
   "source": [
    "import pandas as pd\n",
    "import numpy as np\n",
    "import csv\n",
    "import os"
   ]
  },
  {
   "cell_type": "code",
   "execution_count": 2,
   "metadata": {},
   "outputs": [],
   "source": [
    "inputFileName = \"input.csv\"\n",
    "outputFileName = os.path.splitext(inputFileName)[0] + \"_modified.csv\"   #Modified file will be named accordingly\n",
    "\n",
    "with open(inputFileName, newline='') as inFile, open(outputFileName, 'w', newline='') as outfile:\n",
    "    r = csv.reader(inFile)  #Read file\n",
    "    w = csv.writer(outfile) #Write file\n",
    "\n",
    "    next(r, None)  #Skips the header\n",
    "    w.writerow(['index', 'predictor1', 'predictor2', 'predictor3', 'response']) #New header\n",
    "    #New header is in the form that the first column is the index, the last column is the response and between 3 columns are predictors\n",
    "    #predictor1 is the first predictor column, predictor2 is the second predictor column, predictor3 is the third predictor column\n",
    "\n",
    "    for row in r: #Rest of the data is written into the modified file\n",
    "        w.writerow(row)"
   ]
  },
  {
   "cell_type": "code",
   "execution_count": 3,
   "metadata": {},
   "outputs": [],
   "source": [
    "# The data here should always be split into train data first and then test data"
   ]
  },
  {
   "cell_type": "code",
   "execution_count": 4,
   "metadata": {},
   "outputs": [
    {
     "output_type": "execute_result",
     "data": {
      "text/plain": [
       "10"
      ]
     },
     "metadata": {},
     "execution_count": 4
    }
   ],
   "source": [
    "df = pd.read_csv('input_modified.csv', header = 0)\n",
    "len_df = len(df.index)  #Length of full dataset\n",
    "\n",
    "for i in range(len_df):\n",
    "    test_index = df[\"response\"].isnull().sum()  #Count all the number of test values\n",
    "test_index"
   ]
  },
  {
   "cell_type": "code",
   "execution_count": 5,
   "metadata": {},
   "outputs": [
    {
     "output_type": "stream",
     "name": "stdout",
     "text": [
      "10\n"
     ]
    }
   ],
   "source": [
    "train_index = len_df - test_index   # train index = total length - test index\n",
    "print(train_index)"
   ]
  },
  {
   "cell_type": "code",
   "execution_count": 6,
   "metadata": {},
   "outputs": [
    {
     "output_type": "execute_result",
     "data": {
      "text/plain": [
       "   index predictor1 predictor2 predictor3 response\n",
       "0      1        Yes     Single       125k       No\n",
       "1      2         No    Married       100k       No\n",
       "2      3         No     Single        70k       No\n",
       "3      4        Yes    Married       120k       No\n",
       "4      5         No   Divorced        95k      Yes\n",
       "5      6         No    Married        60k       No\n",
       "6      7        Yes   Divorced       220k       No\n",
       "7      8         No     Single        85k      Yes\n",
       "8      9         No    Married        75k       No\n",
       "9     10         No     Single        90k      Yes"
      ],
      "text/html": "<div>\n<style scoped>\n    .dataframe tbody tr th:only-of-type {\n        vertical-align: middle;\n    }\n\n    .dataframe tbody tr th {\n        vertical-align: top;\n    }\n\n    .dataframe thead th {\n        text-align: right;\n    }\n</style>\n<table border=\"1\" class=\"dataframe\">\n  <thead>\n    <tr style=\"text-align: right;\">\n      <th></th>\n      <th>index</th>\n      <th>predictor1</th>\n      <th>predictor2</th>\n      <th>predictor3</th>\n      <th>response</th>\n    </tr>\n  </thead>\n  <tbody>\n    <tr>\n      <th>0</th>\n      <td>1</td>\n      <td>Yes</td>\n      <td>Single</td>\n      <td>125k</td>\n      <td>No</td>\n    </tr>\n    <tr>\n      <th>1</th>\n      <td>2</td>\n      <td>No</td>\n      <td>Married</td>\n      <td>100k</td>\n      <td>No</td>\n    </tr>\n    <tr>\n      <th>2</th>\n      <td>3</td>\n      <td>No</td>\n      <td>Single</td>\n      <td>70k</td>\n      <td>No</td>\n    </tr>\n    <tr>\n      <th>3</th>\n      <td>4</td>\n      <td>Yes</td>\n      <td>Married</td>\n      <td>120k</td>\n      <td>No</td>\n    </tr>\n    <tr>\n      <th>4</th>\n      <td>5</td>\n      <td>No</td>\n      <td>Divorced</td>\n      <td>95k</td>\n      <td>Yes</td>\n    </tr>\n    <tr>\n      <th>5</th>\n      <td>6</td>\n      <td>No</td>\n      <td>Married</td>\n      <td>60k</td>\n      <td>No</td>\n    </tr>\n    <tr>\n      <th>6</th>\n      <td>7</td>\n      <td>Yes</td>\n      <td>Divorced</td>\n      <td>220k</td>\n      <td>No</td>\n    </tr>\n    <tr>\n      <th>7</th>\n      <td>8</td>\n      <td>No</td>\n      <td>Single</td>\n      <td>85k</td>\n      <td>Yes</td>\n    </tr>\n    <tr>\n      <th>8</th>\n      <td>9</td>\n      <td>No</td>\n      <td>Married</td>\n      <td>75k</td>\n      <td>No</td>\n    </tr>\n    <tr>\n      <th>9</th>\n      <td>10</td>\n      <td>No</td>\n      <td>Single</td>\n      <td>90k</td>\n      <td>Yes</td>\n    </tr>\n  </tbody>\n</table>\n</div>"
     },
     "metadata": {},
     "execution_count": 6
    }
   ],
   "source": [
    "data = pd.read_csv('input_modified.csv', header = 0, nrows = train_index) #First 14 rows are training rows, rest are testing\n",
    "data"
   ]
  },
  {
   "cell_type": "code",
   "execution_count": 7,
   "metadata": {},
   "outputs": [
    {
     "output_type": "stream",
     "name": "stdout",
     "text": [
      "['Yes', 'No']\n"
     ]
    }
   ],
   "source": [
    "predictor1_unique_temp = data.predictor1.unique()   #Taking all the unique items in the first column and storing it\n",
    "predictor1_unique = predictor1_unique_temp.tolist() #Converting it into a list from a numpy array\n",
    "len_pred1 = len(predictor1_unique)  #Calculating the number of variables in the list for looping\n",
    "print(predictor1_unique)"
   ]
  },
  {
   "cell_type": "code",
   "execution_count": 8,
   "metadata": {},
   "outputs": [
    {
     "output_type": "stream",
     "name": "stdout",
     "text": [
      "['Single', 'Married', 'Divorced']\n"
     ]
    }
   ],
   "source": [
    "predictor2_unique_temp = data.predictor2.unique()   #Taking all the unique items in the second column and storing it\n",
    "predictor2_unique = predictor2_unique_temp.tolist()\n",
    "len_pred2 = len(predictor2_unique)\n",
    "print(predictor2_unique)"
   ]
  },
  {
   "cell_type": "code",
   "execution_count": 9,
   "metadata": {},
   "outputs": [
    {
     "output_type": "stream",
     "name": "stdout",
     "text": [
      "['125k', '100k', '70k', '120k', '95k', '60k', '220k', '85k', '75k', '90k']\n"
     ]
    }
   ],
   "source": [
    "predictor3_unique_temp = data.predictor3.unique()   #Taking all the unique items in the third column and storing it\n",
    "predictor3_unique = predictor3_unique_temp.tolist()\n",
    "len_pred3 = len(predictor3_unique)\n",
    "print(predictor3_unique)"
   ]
  },
  {
   "cell_type": "code",
   "execution_count": 10,
   "metadata": {},
   "outputs": [
    {
     "output_type": "execute_result",
     "data": {
      "text/plain": [
       "response    No  Yes  All\n",
       "predictor1              \n",
       "No           4    3    7\n",
       "Yes          3    0    3\n",
       "All          7    3   10"
      ],
      "text/html": "<div>\n<style scoped>\n    .dataframe tbody tr th:only-of-type {\n        vertical-align: middle;\n    }\n\n    .dataframe tbody tr th {\n        vertical-align: top;\n    }\n\n    .dataframe thead th {\n        text-align: right;\n    }\n</style>\n<table border=\"1\" class=\"dataframe\">\n  <thead>\n    <tr style=\"text-align: right;\">\n      <th>response</th>\n      <th>No</th>\n      <th>Yes</th>\n      <th>All</th>\n    </tr>\n    <tr>\n      <th>predictor1</th>\n      <th></th>\n      <th></th>\n      <th></th>\n    </tr>\n  </thead>\n  <tbody>\n    <tr>\n      <th>No</th>\n      <td>4</td>\n      <td>3</td>\n      <td>7</td>\n    </tr>\n    <tr>\n      <th>Yes</th>\n      <td>3</td>\n      <td>0</td>\n      <td>3</td>\n    </tr>\n    <tr>\n      <th>All</th>\n      <td>7</td>\n      <td>3</td>\n      <td>10</td>\n    </tr>\n  </tbody>\n</table>\n</div>"
     },
     "metadata": {},
     "execution_count": 10
    }
   ],
   "source": [
    "#Generating a frequency table for predictor 1\n",
    "predictor1_table = pd.crosstab(index = data[\"predictor1\"], columns = data[\"response\"], margins = True)\n",
    "predictor1_table"
   ]
  },
  {
   "cell_type": "code",
   "execution_count": 11,
   "metadata": {},
   "outputs": [
    {
     "output_type": "execute_result",
     "data": {
      "text/plain": [
       "response    No  Yes  All\n",
       "predictor2              \n",
       "Divorced     1    1    2\n",
       "Married      4    0    4\n",
       "Single       2    2    4\n",
       "All          7    3   10"
      ],
      "text/html": "<div>\n<style scoped>\n    .dataframe tbody tr th:only-of-type {\n        vertical-align: middle;\n    }\n\n    .dataframe tbody tr th {\n        vertical-align: top;\n    }\n\n    .dataframe thead th {\n        text-align: right;\n    }\n</style>\n<table border=\"1\" class=\"dataframe\">\n  <thead>\n    <tr style=\"text-align: right;\">\n      <th>response</th>\n      <th>No</th>\n      <th>Yes</th>\n      <th>All</th>\n    </tr>\n    <tr>\n      <th>predictor2</th>\n      <th></th>\n      <th></th>\n      <th></th>\n    </tr>\n  </thead>\n  <tbody>\n    <tr>\n      <th>Divorced</th>\n      <td>1</td>\n      <td>1</td>\n      <td>2</td>\n    </tr>\n    <tr>\n      <th>Married</th>\n      <td>4</td>\n      <td>0</td>\n      <td>4</td>\n    </tr>\n    <tr>\n      <th>Single</th>\n      <td>2</td>\n      <td>2</td>\n      <td>4</td>\n    </tr>\n    <tr>\n      <th>All</th>\n      <td>7</td>\n      <td>3</td>\n      <td>10</td>\n    </tr>\n  </tbody>\n</table>\n</div>"
     },
     "metadata": {},
     "execution_count": 11
    }
   ],
   "source": [
    "#Generating a frequency table for predictor 2\n",
    "predictor2_table = pd.crosstab(index = data[\"predictor2\"], columns = data[\"response\"], margins = True)\n",
    "predictor2_table"
   ]
  },
  {
   "cell_type": "code",
   "execution_count": 12,
   "metadata": {},
   "outputs": [
    {
     "output_type": "execute_result",
     "data": {
      "text/plain": [
       "response    No  Yes  All\n",
       "predictor3              \n",
       "100k         1    0    1\n",
       "120k         1    0    1\n",
       "125k         1    0    1\n",
       "220k         1    0    1\n",
       "60k          1    0    1\n",
       "70k          1    0    1\n",
       "75k          1    0    1\n",
       "85k          0    1    1\n",
       "90k          0    1    1\n",
       "95k          0    1    1\n",
       "All          7    3   10"
      ],
      "text/html": "<div>\n<style scoped>\n    .dataframe tbody tr th:only-of-type {\n        vertical-align: middle;\n    }\n\n    .dataframe tbody tr th {\n        vertical-align: top;\n    }\n\n    .dataframe thead th {\n        text-align: right;\n    }\n</style>\n<table border=\"1\" class=\"dataframe\">\n  <thead>\n    <tr style=\"text-align: right;\">\n      <th>response</th>\n      <th>No</th>\n      <th>Yes</th>\n      <th>All</th>\n    </tr>\n    <tr>\n      <th>predictor3</th>\n      <th></th>\n      <th></th>\n      <th></th>\n    </tr>\n  </thead>\n  <tbody>\n    <tr>\n      <th>100k</th>\n      <td>1</td>\n      <td>0</td>\n      <td>1</td>\n    </tr>\n    <tr>\n      <th>120k</th>\n      <td>1</td>\n      <td>0</td>\n      <td>1</td>\n    </tr>\n    <tr>\n      <th>125k</th>\n      <td>1</td>\n      <td>0</td>\n      <td>1</td>\n    </tr>\n    <tr>\n      <th>220k</th>\n      <td>1</td>\n      <td>0</td>\n      <td>1</td>\n    </tr>\n    <tr>\n      <th>60k</th>\n      <td>1</td>\n      <td>0</td>\n      <td>1</td>\n    </tr>\n    <tr>\n      <th>70k</th>\n      <td>1</td>\n      <td>0</td>\n      <td>1</td>\n    </tr>\n    <tr>\n      <th>75k</th>\n      <td>1</td>\n      <td>0</td>\n      <td>1</td>\n    </tr>\n    <tr>\n      <th>85k</th>\n      <td>0</td>\n      <td>1</td>\n      <td>1</td>\n    </tr>\n    <tr>\n      <th>90k</th>\n      <td>0</td>\n      <td>1</td>\n      <td>1</td>\n    </tr>\n    <tr>\n      <th>95k</th>\n      <td>0</td>\n      <td>1</td>\n      <td>1</td>\n    </tr>\n    <tr>\n      <th>All</th>\n      <td>7</td>\n      <td>3</td>\n      <td>10</td>\n    </tr>\n  </tbody>\n</table>\n</div>"
     },
     "metadata": {},
     "execution_count": 12
    }
   ],
   "source": [
    "#Generating a frequency table for predictor 3\n",
    "predictor3_table = pd.crosstab(index = data[\"predictor3\"], columns = data[\"response\"], margins = True)\n",
    "predictor3_table"
   ]
  },
  {
   "cell_type": "code",
   "execution_count": 13,
   "metadata": {},
   "outputs": [],
   "source": [
    "#All the calculations will be based on these frequency tables \n",
    "# .loc is used to find the value that is present at that location based on text"
   ]
  },
  {
   "cell_type": "code",
   "execution_count": 14,
   "metadata": {},
   "outputs": [],
   "source": [
    "P_predictor_Yes = predictor1_table.loc[\"All\"][\"Yes\"] / predictor1_table.loc[\"All\"][\"All\"]   #Calculating the probabiuty of yes\n",
    "P_predictor_No = predictor1_table.loc[\"All\"][\"No\"] / predictor1_table.loc[\"All\"][\"All\"]     #Calculating the probabiuty of no"
   ]
  },
  {
   "cell_type": "code",
   "execution_count": 15,
   "metadata": {},
   "outputs": [
    {
     "output_type": "execute_result",
     "data": {
      "text/plain": [
       "(0.3, 0.7)"
      ]
     },
     "metadata": {},
     "execution_count": 15
    }
   ],
   "source": [
    "predictor1_values = ()\n",
    "\n",
    "for i in predictor1_unique: #This loop is to get the predictition values of all the unique parameters\n",
    "    predictor1_values = predictor1_values + (predictor1_table.loc[i[0:]][\"All\"] / predictor1_table.loc[\"All\"][\"All\"], )\n",
    "\n",
    "predictor1_values\n",
    "#Output is probability of Sunny, Overcast and Rain in this case of dataset"
   ]
  },
  {
   "cell_type": "code",
   "execution_count": 16,
   "metadata": {},
   "outputs": [
    {
     "output_type": "stream",
     "name": "stdout",
     "text": [
      "(0.0, 1.0) (0.42857142857142855, 0.5714285714285714)\n"
     ]
    }
   ],
   "source": [
    "predictor1_yes_values = ()  #Storing values of the predictions if it is Yes\n",
    "predictor1_no_values = ()   #Storing values of the predictions if it is No\n",
    "\n",
    "for i in predictor1_unique:\n",
    "    predictor1_yes_values = predictor1_yes_values + (predictor1_table.loc[i[0:]][\"Yes\"] / predictor1_table.loc[\"All\"][\"Yes\"], )\n",
    "    predictor1_no_values = predictor1_no_values + (predictor1_table.loc[i[0:]][\"No\"] / predictor1_table.loc[\"All\"][\"No\"], )\n",
    "\n",
    "print(predictor1_yes_values, predictor1_no_values)\n",
    "#Output is probability of Sunny, Overcast and Rain in this case of dataset"
   ]
  },
  {
   "cell_type": "code",
   "execution_count": 17,
   "metadata": {},
   "outputs": [
    {
     "output_type": "stream",
     "name": "stdout",
     "text": [
      "(0.0, 0.4285714285714286) (1.0, 0.5714285714285714)\n"
     ]
    }
   ],
   "source": [
    "yes_predictor1_values = ()  #Storing values of Bayes Theorem in case of Yes\n",
    "no_predictor1_values = ()   #Storing values of Bayes Theorem in case of No\n",
    "\n",
    "for i in range(len_pred1):\n",
    "    yes_predictor1_values = yes_predictor1_values + (predictor1_yes_values[i] * P_predictor_Yes / predictor1_values[i],)\n",
    "    no_predictor1_values = no_predictor1_values + (predictor1_no_values[i] * P_predictor_No / predictor1_values[i],)\n",
    "\n",
    "print(yes_predictor1_values, no_predictor1_values)\n",
    "#Output is probability of Sunny, Overcast and Rain in this case of dataset"
   ]
  },
  {
   "cell_type": "code",
   "execution_count": 18,
   "metadata": {},
   "outputs": [
    {
     "output_type": "execute_result",
     "data": {
      "text/plain": [
       "(0.4, 0.4, 0.2)"
      ]
     },
     "metadata": {},
     "execution_count": 18
    }
   ],
   "source": [
    "predictor2_values = ()\n",
    "\n",
    "for i in predictor2_unique: #This loop is to get the predictition values of all the unique parameters\n",
    "    predictor2_values = predictor2_values + (predictor2_table.loc[i[0:]][\"All\"] / predictor2_table.loc[\"All\"][\"All\"], )\n",
    "\n",
    "predictor2_values\n",
    "#Output is probability of High and Normal in this case of dataset"
   ]
  },
  {
   "cell_type": "code",
   "execution_count": 19,
   "metadata": {},
   "outputs": [
    {
     "output_type": "stream",
     "name": "stdout",
     "text": [
      "(0.6666666666666666, 0.0, 0.3333333333333333) (0.2857142857142857, 0.5714285714285714, 0.14285714285714285)\n"
     ]
    }
   ],
   "source": [
    "predictor2_yes_values = ()  #Storing values of the predictions if it is Yes\n",
    "predictor2_no_values = ()   #Storing values of the predictions if it is No\n",
    "\n",
    "for i in predictor2_unique:\n",
    "    predictor2_yes_values = predictor2_yes_values + (predictor2_table.loc[i[0:]][\"Yes\"] / predictor2_table.loc[\"All\"][\"Yes\"], )\n",
    "    predictor2_no_values = predictor2_no_values + (predictor2_table.loc[i[0:]][\"No\"] / predictor2_table.loc[\"All\"][\"No\"], )\n",
    "\n",
    "print(predictor2_yes_values, predictor2_no_values)\n",
    "#Output is probability of High and Normal in this case of dataset"
   ]
  },
  {
   "cell_type": "code",
   "execution_count": 20,
   "metadata": {},
   "outputs": [
    {
     "output_type": "stream",
     "name": "stdout",
     "text": [
      "(0.49999999999999994, 0.0, 0.49999999999999994) (0.49999999999999994, 0.9999999999999999, 0.49999999999999994)\n"
     ]
    }
   ],
   "source": [
    "yes_predictor2_values = ()  #Storing values of Bayes Theorem in case of Yes\n",
    "no_predictor2_values = ()   #Storing values of Bayes Theorem in case of No\n",
    "\n",
    "for i in range(len_pred2):\n",
    "    yes_predictor2_values = yes_predictor2_values + (predictor2_yes_values[i] * P_predictor_Yes / predictor2_values[i],)\n",
    "    no_predictor2_values = no_predictor2_values + (predictor2_no_values[i] * P_predictor_No / predictor2_values[i],)\n",
    "\n",
    "print(yes_predictor2_values, no_predictor2_values)\n",
    "#Output is probability of High and Normal in this case of dataset"
   ]
  },
  {
   "cell_type": "code",
   "execution_count": 21,
   "metadata": {},
   "outputs": [
    {
     "output_type": "execute_result",
     "data": {
      "text/plain": [
       "(0.1, 0.1, 0.1, 0.1, 0.1, 0.1, 0.1, 0.1, 0.1, 0.1)"
      ]
     },
     "metadata": {},
     "execution_count": 21
    }
   ],
   "source": [
    "predictor3_values = ()\n",
    "\n",
    "for i in predictor3_unique: #This loop is to get the predictition values of all the unique parameters\n",
    "    predictor3_values = predictor3_values + (predictor3_table.loc[i[0:]][\"All\"] / predictor3_table.loc[\"All\"][\"All\"], )\n",
    "\n",
    "predictor3_values\n",
    "#Output is probability of Weak and Strong in this case of dataset"
   ]
  },
  {
   "cell_type": "code",
   "execution_count": 22,
   "metadata": {},
   "outputs": [
    {
     "output_type": "stream",
     "name": "stdout",
     "text": [
      "(0.0, 0.0, 0.0, 0.0, 0.3333333333333333, 0.0, 0.0, 0.3333333333333333, 0.0, 0.3333333333333333) (0.14285714285714285, 0.14285714285714285, 0.14285714285714285, 0.14285714285714285, 0.0, 0.14285714285714285, 0.14285714285714285, 0.0, 0.14285714285714285, 0.0)\n"
     ]
    }
   ],
   "source": [
    "predictor3_yes_values = ()  #Storing values of the predictions if it is Yes\n",
    "predictor3_no_values = ()   #Storing values of the predictions if it is No\n",
    "\n",
    "for i in predictor3_unique:\n",
    "    predictor3_yes_values = predictor3_yes_values + (predictor3_table.loc[i[0:]][\"Yes\"] / predictor3_table.loc[\"All\"][\"Yes\"], )\n",
    "    predictor3_no_values = predictor3_no_values + (predictor3_table.loc[i[0:]][\"No\"] / predictor3_table.loc[\"All\"][\"No\"], )\n",
    "\n",
    "print(predictor3_yes_values, predictor3_no_values)\n",
    "#Output is probability of Weak and Strong in this case of dataset"
   ]
  },
  {
   "cell_type": "code",
   "execution_count": 23,
   "metadata": {},
   "outputs": [
    {
     "output_type": "stream",
     "name": "stdout",
     "text": [
      "(0.0, 0.0, 0.0, 0.0, 0.9999999999999999, 0.0, 0.0, 0.9999999999999999, 0.0, 0.9999999999999999) (0.9999999999999999, 0.9999999999999999, 0.9999999999999999, 0.9999999999999999, 0.0, 0.9999999999999999, 0.9999999999999999, 0.0, 0.9999999999999999, 0.0)\n"
     ]
    }
   ],
   "source": [
    "yes_predictor3_values = ()  #Storing values of Bayes Theorem in case of Yes\n",
    "no_predictor3_values = ()   #Storing values of Bayes Theorem in case of No\n",
    "\n",
    "for i in range(len_pred3):\n",
    "    yes_predictor3_values = yes_predictor3_values + (predictor3_yes_values[i] * P_predictor_Yes / predictor3_values[i],)\n",
    "    no_predictor3_values = no_predictor3_values + (predictor3_no_values[i] * P_predictor_No / predictor3_values[i],)\n",
    "\n",
    "print(yes_predictor3_values, no_predictor3_values)\n",
    "#Output is probability of Weak and Strong in this case of dataset"
   ]
  },
  {
   "cell_type": "code",
   "execution_count": null,
   "metadata": {},
   "outputs": [],
   "source": []
  },
  {
   "cell_type": "code",
   "execution_count": 24,
   "metadata": {},
   "outputs": [
    {
     "output_type": "execute_result",
     "data": {
      "text/plain": [
       "   index predictor1 predictor2 predictor3  response\n",
       "0     11        Yes     Single       125k       NaN\n",
       "1     12         No    Married       100k       NaN\n",
       "2     13         No     Single        70k       NaN\n",
       "3     14        Yes    Married       120k       NaN\n",
       "4     15         No   Divorced        95k       NaN\n",
       "5     16         No    Married        60k       NaN\n",
       "6     17        Yes   Divorced       220k       NaN\n",
       "7     18         No     Single        85k       NaN\n",
       "8     19         No    Married        75k       NaN\n",
       "9     20         No     Single        90k       NaN"
      ],
      "text/html": "<div>\n<style scoped>\n    .dataframe tbody tr th:only-of-type {\n        vertical-align: middle;\n    }\n\n    .dataframe tbody tr th {\n        vertical-align: top;\n    }\n\n    .dataframe thead th {\n        text-align: right;\n    }\n</style>\n<table border=\"1\" class=\"dataframe\">\n  <thead>\n    <tr style=\"text-align: right;\">\n      <th></th>\n      <th>index</th>\n      <th>predictor1</th>\n      <th>predictor2</th>\n      <th>predictor3</th>\n      <th>response</th>\n    </tr>\n  </thead>\n  <tbody>\n    <tr>\n      <th>0</th>\n      <td>11</td>\n      <td>Yes</td>\n      <td>Single</td>\n      <td>125k</td>\n      <td>NaN</td>\n    </tr>\n    <tr>\n      <th>1</th>\n      <td>12</td>\n      <td>No</td>\n      <td>Married</td>\n      <td>100k</td>\n      <td>NaN</td>\n    </tr>\n    <tr>\n      <th>2</th>\n      <td>13</td>\n      <td>No</td>\n      <td>Single</td>\n      <td>70k</td>\n      <td>NaN</td>\n    </tr>\n    <tr>\n      <th>3</th>\n      <td>14</td>\n      <td>Yes</td>\n      <td>Married</td>\n      <td>120k</td>\n      <td>NaN</td>\n    </tr>\n    <tr>\n      <th>4</th>\n      <td>15</td>\n      <td>No</td>\n      <td>Divorced</td>\n      <td>95k</td>\n      <td>NaN</td>\n    </tr>\n    <tr>\n      <th>5</th>\n      <td>16</td>\n      <td>No</td>\n      <td>Married</td>\n      <td>60k</td>\n      <td>NaN</td>\n    </tr>\n    <tr>\n      <th>6</th>\n      <td>17</td>\n      <td>Yes</td>\n      <td>Divorced</td>\n      <td>220k</td>\n      <td>NaN</td>\n    </tr>\n    <tr>\n      <th>7</th>\n      <td>18</td>\n      <td>No</td>\n      <td>Single</td>\n      <td>85k</td>\n      <td>NaN</td>\n    </tr>\n    <tr>\n      <th>8</th>\n      <td>19</td>\n      <td>No</td>\n      <td>Married</td>\n      <td>75k</td>\n      <td>NaN</td>\n    </tr>\n    <tr>\n      <th>9</th>\n      <td>20</td>\n      <td>No</td>\n      <td>Single</td>\n      <td>90k</td>\n      <td>NaN</td>\n    </tr>\n  </tbody>\n</table>\n</div>"
     },
     "metadata": {},
     "execution_count": 24
    }
   ],
   "source": [
    "#The first 14 rows are used to train the data, the rest of the data is used in testing it\n",
    "test = pd.read_csv('input_modified.csv', header = None, skiprows = (train_index + 1))\n",
    "#Changing the headers to match the training dataset header\n",
    "test.columns = ['index', 'predictor1', 'predictor2', 'predictor3', 'response']\n",
    "test"
   ]
  },
  {
   "cell_type": "code",
   "execution_count": 25,
   "metadata": {},
   "outputs": [
    {
     "output_type": "execute_result",
     "data": {
      "text/plain": [
       "10"
      ]
     },
     "metadata": {},
     "execution_count": 25
    }
   ],
   "source": [
    "rows = len(test.index)\n",
    "#Calculating the number of rows of the testing dataset\n",
    "rows"
   ]
  },
  {
   "cell_type": "code",
   "execution_count": 26,
   "metadata": {},
   "outputs": [
    {
     "output_type": "stream",
     "name": "stdout",
     "text": [
      "0.0 1.0\n",
      "0.0 1.0\n",
      "0.0 1.0\n",
      "0.0 1.0\n",
      "1.0 0.0\n",
      "0.0 1.0\n",
      "0.0 1.0\n",
      "1.0 0.0\n",
      "0.0 1.0\n",
      "1.0 0.0\n"
     ]
    }
   ],
   "source": [
    "for i in range(rows):\n",
    "    #Running a loop though each and every row and calculating the prediction by Naive Bayes\n",
    "\n",
    "    #Naive Bayes in case of yes\n",
    "    test1_yes = predictor1_yes_values[predictor1_unique.index(test.iloc[i].predictor1)] * predictor2_yes_values[predictor2_unique.index(test.iloc[i].predictor2)] * predictor3_yes_values[predictor3_unique.index(test.iloc[i].predictor3)] * P_predictor_Yes\n",
    "\n",
    "    #Naive Bayes in case of no\n",
    "    test1_no = predictor1_no_values[predictor1_unique.index(test.iloc[i].predictor1)] * predictor2_no_values[predictor2_unique.index(test.iloc[i].predictor2)] * predictor3_no_values[predictor3_unique.index(test.iloc[i].predictor3)] * P_predictor_No\n",
    "\n",
    "    y = (test1_yes / (test1_yes + test1_no))    #Prediction of yes in a row\n",
    "    n = (test1_no / (test1_yes + test1_no))     #Prediction of no in a row\n",
    "\n",
    "    print(y, n)\n",
    "\n",
    "    #Modifying the dataframe and inserting 1 or 0 in place of NaN values\n",
    "    if y > n:\n",
    "        test.at[i, \"response\"] = 1  # 1 means yes\n",
    "    elif n > y:\n",
    "        test.at[i, \"response\"] = 0 # 0 means no"
   ]
  },
  {
   "cell_type": "code",
   "execution_count": 27,
   "metadata": {},
   "outputs": [
    {
     "output_type": "execute_result",
     "data": {
      "text/plain": [
       "   index predictor1 predictor2 predictor3  response\n",
       "0     11        Yes     Single       125k       0.0\n",
       "1     12         No    Married       100k       0.0\n",
       "2     13         No     Single        70k       0.0\n",
       "3     14        Yes    Married       120k       0.0\n",
       "4     15         No   Divorced        95k       1.0\n",
       "5     16         No    Married        60k       0.0\n",
       "6     17        Yes   Divorced       220k       0.0\n",
       "7     18         No     Single        85k       1.0\n",
       "8     19         No    Married        75k       0.0\n",
       "9     20         No     Single        90k       1.0"
      ],
      "text/html": "<div>\n<style scoped>\n    .dataframe tbody tr th:only-of-type {\n        vertical-align: middle;\n    }\n\n    .dataframe tbody tr th {\n        vertical-align: top;\n    }\n\n    .dataframe thead th {\n        text-align: right;\n    }\n</style>\n<table border=\"1\" class=\"dataframe\">\n  <thead>\n    <tr style=\"text-align: right;\">\n      <th></th>\n      <th>index</th>\n      <th>predictor1</th>\n      <th>predictor2</th>\n      <th>predictor3</th>\n      <th>response</th>\n    </tr>\n  </thead>\n  <tbody>\n    <tr>\n      <th>0</th>\n      <td>11</td>\n      <td>Yes</td>\n      <td>Single</td>\n      <td>125k</td>\n      <td>0.0</td>\n    </tr>\n    <tr>\n      <th>1</th>\n      <td>12</td>\n      <td>No</td>\n      <td>Married</td>\n      <td>100k</td>\n      <td>0.0</td>\n    </tr>\n    <tr>\n      <th>2</th>\n      <td>13</td>\n      <td>No</td>\n      <td>Single</td>\n      <td>70k</td>\n      <td>0.0</td>\n    </tr>\n    <tr>\n      <th>3</th>\n      <td>14</td>\n      <td>Yes</td>\n      <td>Married</td>\n      <td>120k</td>\n      <td>0.0</td>\n    </tr>\n    <tr>\n      <th>4</th>\n      <td>15</td>\n      <td>No</td>\n      <td>Divorced</td>\n      <td>95k</td>\n      <td>1.0</td>\n    </tr>\n    <tr>\n      <th>5</th>\n      <td>16</td>\n      <td>No</td>\n      <td>Married</td>\n      <td>60k</td>\n      <td>0.0</td>\n    </tr>\n    <tr>\n      <th>6</th>\n      <td>17</td>\n      <td>Yes</td>\n      <td>Divorced</td>\n      <td>220k</td>\n      <td>0.0</td>\n    </tr>\n    <tr>\n      <th>7</th>\n      <td>18</td>\n      <td>No</td>\n      <td>Single</td>\n      <td>85k</td>\n      <td>1.0</td>\n    </tr>\n    <tr>\n      <th>8</th>\n      <td>19</td>\n      <td>No</td>\n      <td>Married</td>\n      <td>75k</td>\n      <td>0.0</td>\n    </tr>\n    <tr>\n      <th>9</th>\n      <td>20</td>\n      <td>No</td>\n      <td>Single</td>\n      <td>90k</td>\n      <td>1.0</td>\n    </tr>\n  </tbody>\n</table>\n</div>"
     },
     "metadata": {},
     "execution_count": 27
    }
   ],
   "source": [
    "test\n",
    "#Printing the final result"
   ]
  },
  {
   "cell_type": "code",
   "execution_count": 28,
   "metadata": {},
   "outputs": [
    {
     "output_type": "stream",
     "name": "stdout",
     "text": [
      "Train list -  (0, 0, 0, 0, 1, 0, 0, 1, 0, 1)\nTest list -  (0, 0, 0, 0, 1, 0, 0, 1, 0, 1)\n"
     ]
    }
   ],
   "source": [
    "#Since the test data is the train data withouot the actual answer, we can compare the results of both and find the accuracy\n",
    "\n",
    "test_list = ()\n",
    "train_list = ()\n",
    "\n",
    "# Making the train and test data response to 1 or 0 to make it easier to compare\n",
    "\n",
    "for i in range(train_index):\n",
    "    if data.response[i] == \"Yes\":\n",
    "        train_list = train_list + (1, )\n",
    "    else:\n",
    "        train_list = train_list + (0, )\n",
    "\n",
    "for i in range(test_index):\n",
    "    if test.response[i] == 1.0:\n",
    "        test_list = test_list + (1, )\n",
    "    else:\n",
    "        test_list = test_list + (0, ) \n",
    "\n",
    "print(\"Train list - \", train_list)\n",
    "print(\"Test list - \", test_list)"
   ]
  },
  {
   "cell_type": "code",
   "execution_count": 29,
   "metadata": {},
   "outputs": [
    {
     "output_type": "stream",
     "name": "stdout",
     "text": [
      "Accuracy = 100.0\n"
     ]
    }
   ],
   "source": [
    "# Comparing the data of test and train to find the accuracy\n",
    "correct = 0\n",
    "for i in range(len(test_list)):\n",
    "\tif test_list[i] == train_list[i]:\n",
    "\t\tcorrect += 1\n",
    "\n",
    "accuracy = correct / len(test_list) * 100\n",
    "print(\"Accuracy =\", accuracy)"
   ]
  }
 ]
}